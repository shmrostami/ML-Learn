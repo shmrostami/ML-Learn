{
 "cells": [
  {
   "cell_type": "markdown",
   "id": "3a904946",
   "metadata": {},
   "source": [
    "## Numpy"
   ]
  },
  {
   "cell_type": "code",
   "execution_count": 2,
   "id": "a2404679-eea2-44bd-b498-581f96388469",
   "metadata": {},
   "outputs": [],
   "source": [
    "import numpy as np"
   ]
  },
  {
   "cell_type": "code",
   "execution_count": 3,
   "id": "cdc68db4-7fdc-4f5a-9b36-1a00359a72f0",
   "metadata": {},
   "outputs": [
    {
     "data": {
      "text/plain": [
       "'1.20.3'"
      ]
     },
     "execution_count": 3,
     "metadata": {},
     "output_type": "execute_result"
    }
   ],
   "source": [
    "np.__version__"
   ]
  },
  {
   "cell_type": "markdown",
   "id": "6d9b8fdb",
   "metadata": {},
   "source": [
    "#### Array"
   ]
  },
  {
   "cell_type": "code",
   "execution_count": 4,
   "id": "e02d828f-b470-4528-ad69-3d67d8ecba59",
   "metadata": {},
   "outputs": [
    {
     "data": {
      "text/plain": [
       "array([[1, 2],\n",
       "       [3, 4]])"
      ]
     },
     "execution_count": 4,
     "metadata": {},
     "output_type": "execute_result"
    }
   ],
   "source": [
    "a = np.array([[1,2], [3,4]])\n",
    "a"
   ]
  },
  {
   "cell_type": "markdown",
   "id": "e099ce53",
   "metadata": {},
   "source": [
    "#### Matrix"
   ]
  },
  {
   "cell_type": "code",
   "execution_count": 5,
   "id": "d9c8abbe",
   "metadata": {},
   "outputs": [
    {
     "data": {
      "text/plain": [
       "matrix([[1, 2],\n",
       "        [3, 4]])"
      ]
     },
     "execution_count": 5,
     "metadata": {},
     "output_type": "execute_result"
    }
   ],
   "source": [
    "b = np.matrix([[1,2], [3,4]])\n",
    "b"
   ]
  },
  {
   "cell_type": "markdown",
   "id": "dcbb08bf",
   "metadata": {},
   "source": [
    "#### Dtype"
   ]
  },
  {
   "cell_type": "markdown",
   "id": "d24ee687",
   "metadata": {},
   "source": [
    "int8 = Byte (-128 to 127) \\\n",
    "int16 = Integer (-32768 to 32767) \\\n",
    "int32 = Integer (-2147483648 to +2147483647) \\\n",
    "int64 = Integer (-9223372036854775808 to +9223372036854775807) \\\n",
    "Boolean = (True or False) stored as a byte \\\n",
    "float = Shorthand for float64 : Double precision float: sign bit, 11 bits exponent, 52 bits mantissa \\\n",
    "complex = Shorthand for complex128 : Complex number \\"
   ]
  },
  {
   "cell_type": "markdown",
   "id": "00d95ab7",
   "metadata": {},
   "source": [
    "#### Multiplication\n",
    "**@** or **numpy.dot()**"
   ]
  },
  {
   "attachments": {
    "matrix_dot.PNG": {
     "image/png": "[encoded data removed]"
    }
   },
   "cell_type": "markdown",
   "id": "28ceb027",
   "metadata": {},
   "source": [
    "![matrix_dot.PNG](attachment:matrix_dot.PNG)"
   ]
  },
  {
   "cell_type": "code",
   "execution_count": 7,
   "id": "fb44b869-72bb-4ca0-9ccc-90cde88b6523",
   "metadata": {},
   "outputs": [
    {
     "data": {
      "text/plain": [
       "array([[ 7, 10],\n",
       "       [15, 22]])"
      ]
     },
     "execution_count": 7,
     "metadata": {},
     "output_type": "execute_result"
    }
   ],
   "source": [
    "a = np.array([[1,2], [3,4]])\n",
    "a@a"
   ]
  },
  {
   "cell_type": "code",
   "execution_count": 8,
   "id": "73ce71ff-fa08-4db2-9ea0-55b8b527e78c",
   "metadata": {},
   "outputs": [
    {
     "data": {
      "text/plain": [
       "array([[ 7, 10],\n",
       "       [15, 22]])"
      ]
     },
     "execution_count": 8,
     "metadata": {},
     "output_type": "execute_result"
    }
   ],
   "source": [
    "np.dot(a, a)"
   ]
  },
  {
   "cell_type": "markdown",
   "id": "94009a79",
   "metadata": {},
   "source": [
    "#### np.nultiply()"
   ]
  },
  {
   "attachments": {
    "np_multiply.PNG": {
     "image/png": "[encoded data removed]"
    }
   },
   "cell_type": "markdown",
   "id": "491bd3b2",
   "metadata": {},
   "source": [
    "![np_multiply.PNG](attachment:np_multiply.PNG)"
   ]
  },
  {
   "cell_type": "code",
   "execution_count": 9,
   "id": "ae8b7375-9a18-4349-acd1-cf496092888e",
   "metadata": {},
   "outputs": [
    {
     "data": {
      "text/plain": [
       "array([[ 1,  4],\n",
       "       [ 9, 16]])"
      ]
     },
     "execution_count": 9,
     "metadata": {},
     "output_type": "execute_result"
    }
   ],
   "source": [
    "np.multiply(a,a)"
   ]
  },
  {
   "cell_type": "markdown",
   "id": "5b0a04d8",
   "metadata": {},
   "source": [
    "#### Matrix"
   ]
  },
  {
   "cell_type": "code",
   "execution_count": 10,
   "id": "48175a3a-3dbe-46e9-8d17-e5117944cd5a",
   "metadata": {},
   "outputs": [
    {
     "data": {
      "text/plain": [
       "matrix([[ 7, 10],\n",
       "        [15, 22]])"
      ]
     },
     "execution_count": 10,
     "metadata": {},
     "output_type": "execute_result"
    }
   ],
   "source": [
    "b = np.matrix([[1,2], [3,4]])\n",
    "b*b"
   ]
  },
  {
   "cell_type": "markdown",
   "id": "3125df47",
   "metadata": {},
   "source": [
    "#### numpy.prod()"
   ]
  },
  {
   "cell_type": "code",
   "execution_count": 12,
   "id": "1b275f0f-78ef-4b77-832e-0dc0ca4b89af",
   "metadata": {},
   "outputs": [
    {
     "data": {
      "text/plain": [
       "24"
      ]
     },
     "execution_count": 12,
     "metadata": {},
     "output_type": "execute_result"
    }
   ],
   "source": [
    "a = np.array([[1,2], [3,4]])\n",
    "np.prod(a)"
   ]
  },
  {
   "cell_type": "markdown",
   "id": "0e282bbb",
   "metadata": {},
   "source": [
    "#### Broadcasting"
   ]
  },
  {
   "cell_type": "code",
   "execution_count": 13,
   "id": "5c257895",
   "metadata": {},
   "outputs": [
    {
     "data": {
      "text/plain": [
       "array([6, 7, 8])"
      ]
     },
     "execution_count": 13,
     "metadata": {},
     "output_type": "execute_result"
    }
   ],
   "source": [
    "my_array = np.array([1, 2, 3])\n",
    "my_array + 5"
   ]
  },
  {
   "attachments": {
    "array_broadcasting.PNG": {
     "image/png": "[encoded data removed]"
    }
   },
   "cell_type": "markdown",
   "id": "c0355129",
   "metadata": {},
   "source": [
    "![array_broadcasting.PNG](attachment:array_broadcasting.PNG)"
   ]
  },
  {
   "cell_type": "code",
   "execution_count": 14,
   "id": "68138958",
   "metadata": {},
   "outputs": [
    {
     "data": {
      "text/plain": [
       "array([[6., 7., 8.],\n",
       "       [6., 7., 8.],\n",
       "       [6., 7., 8.]])"
      ]
     },
     "execution_count": 14,
     "metadata": {},
     "output_type": "execute_result"
    }
   ],
   "source": [
    "a = np.ones((3,3))\n",
    "b = np.array([5, 6, 7])\n",
    "a + b"
   ]
  },
  {
   "attachments": {
    "matrix_broadcasting.PNG": {
     "image/png": "[encoded data removed]"
    }
   },
   "cell_type": "markdown",
   "id": "e2eb4c3a",
   "metadata": {},
   "source": [
    "![matrix_broadcasting.PNG](attachment:matrix_broadcasting.PNG)"
   ]
  },
  {
   "cell_type": "code",
   "execution_count": 15,
   "id": "56108225",
   "metadata": {},
   "outputs": [
    {
     "data": {
      "text/plain": [
       "array([[6., 7., 8.],\n",
       "       [6., 7., 8.],\n",
       "       [6., 7., 8.]])"
      ]
     },
     "execution_count": 15,
     "metadata": {},
     "output_type": "execute_result"
    }
   ],
   "source": [
    "a = np.ones((3,1))\n",
    "b = np.array([5, 6, 7])\n",
    "a + b"
   ]
  },
  {
   "attachments": {
    "matrix_broadcasting2.PNG": {
     "image/png": "[encoded data removed]"
    }
   },
   "cell_type": "markdown",
   "id": "512b05c8",
   "metadata": {},
   "source": [
    "![matrix_broadcasting2.PNG](attachment:matrix_broadcasting2.PNG)"
   ]
  },
  {
   "cell_type": "markdown",
   "id": "42fe8b96",
   "metadata": {},
   "source": [
    "#### Summation"
   ]
  },
  {
   "cell_type": "code",
   "execution_count": 17,
   "id": "51298b76-d295-4917-aec9-2b186c0f5a58",
   "metadata": {},
   "outputs": [
    {
     "data": {
      "text/plain": [
       "10"
      ]
     },
     "execution_count": 17,
     "metadata": {},
     "output_type": "execute_result"
    }
   ],
   "source": [
    "a = np.array([[1,2], [3,4]])\n",
    "np.sum(a)"
   ]
  },
  {
   "cell_type": "code",
   "execution_count": 18,
   "id": "8edf3f23-4366-42e7-b84e-df4efb8db97d",
   "metadata": {},
   "outputs": [
    {
     "data": {
      "text/plain": [
       "array([[1, 2],\n",
       "       [4, 6]], dtype=int32)"
      ]
     },
     "execution_count": 18,
     "metadata": {},
     "output_type": "execute_result"
    }
   ],
   "source": [
    "np.cumsum(a, axis=0)"
   ]
  },
  {
   "cell_type": "markdown",
   "id": "8853b7a8",
   "metadata": {},
   "source": [
    "#### Subtraction"
   ]
  },
  {
   "cell_type": "code",
   "execution_count": 19,
   "id": "78158f69",
   "metadata": {},
   "outputs": [
    {
     "data": {
      "text/plain": [
       "array([[0, 0],\n",
       "       [0, 0]])"
      ]
     },
     "execution_count": 19,
     "metadata": {},
     "output_type": "execute_result"
    }
   ],
   "source": [
    "a = np.array([[1,2], [3,4]])\n",
    "np.subtract(a, a)"
   ]
  },
  {
   "cell_type": "markdown",
   "id": "6329c0a5",
   "metadata": {},
   "source": [
    "#### Division"
   ]
  },
  {
   "cell_type": "code",
   "execution_count": 20,
   "id": "cacde0dc-d748-4055-95ae-200dff3ebf37",
   "metadata": {},
   "outputs": [
    {
     "data": {
      "text/plain": [
       "array([1.66666667, 2.        , 2.33333333])"
      ]
     },
     "execution_count": 20,
     "metadata": {},
     "output_type": "execute_result"
    }
   ],
   "source": [
    "np.divide([5, 6, 7], 3)"
   ]
  },
  {
   "cell_type": "code",
   "execution_count": 21,
   "id": "b44eff19-89b7-40d1-83a6-91126c6001e0",
   "metadata": {},
   "outputs": [
    {
     "data": {
      "text/plain": [
       "array([1, 2, 2], dtype=int32)"
      ]
     },
     "execution_count": 21,
     "metadata": {},
     "output_type": "execute_result"
    }
   ],
   "source": [
    "np.floor_divide([5, 6, 7], 3)"
   ]
  },
  {
   "cell_type": "markdown",
   "id": "21d79ac1",
   "metadata": {},
   "source": [
    "#### Numpy.math()"
   ]
  },
  {
   "cell_type": "code",
   "execution_count": 22,
   "id": "8f1d6744-f0aa-485b-a88f-7e441a5ac542",
   "metadata": {},
   "outputs": [
    {
     "data": {
      "text/plain": [
       "2.23606797749979"
      ]
     },
     "execution_count": 22,
     "metadata": {},
     "output_type": "execute_result"
    }
   ],
   "source": [
    "np.math.sqrt(5)"
   ]
  },
  {
   "cell_type": "code",
   "execution_count": 23,
   "id": "945241b0-995b-4c45-ba91-ad680766d802",
   "metadata": {},
   "outputs": [
    {
     "data": {
      "text/plain": [
       "nan"
      ]
     },
     "execution_count": 23,
     "metadata": {},
     "output_type": "execute_result"
    }
   ],
   "source": [
    "np.math.nan"
   ]
  },
  {
   "cell_type": "code",
   "execution_count": 24,
   "id": "07bcd45c-0f6f-4daf-b239-a84e12aa1e7c",
   "metadata": {},
   "outputs": [
    {
     "data": {
      "text/plain": [
       "inf"
      ]
     },
     "execution_count": 24,
     "metadata": {},
     "output_type": "execute_result"
    }
   ],
   "source": [
    "np.math.inf"
   ]
  },
  {
   "cell_type": "markdown",
   "id": "f523a631",
   "metadata": {},
   "source": [
    "#### Generate random numbers"
   ]
  },
  {
   "cell_type": "code",
   "execution_count": 26,
   "id": "6b50e9db-ee68-4d33-9b83-d78cfe14b29e",
   "metadata": {},
   "outputs": [
    {
     "data": {
      "text/plain": [
       "array([[4.63756854, 4.53612345, 4.40873543],\n",
       "       [2.42049894, 3.38158342, 3.60033672]])"
      ]
     },
     "execution_count": 26,
     "metadata": {},
     "output_type": "execute_result"
    }
   ],
   "source": [
    "np.random.uniform(1,5, (2,3))"
   ]
  },
  {
   "cell_type": "code",
   "execution_count": 27,
   "id": "96059cd5-beec-43ca-b141-59ffc616a5ad",
   "metadata": {},
   "outputs": [
    {
     "data": {
      "text/plain": [
       "array([[-0.03947251,  0.70468538,  0.92124982,  0.76868131,  1.40235384],\n",
       "       [ 0.4634105 ,  0.2531177 , -1.12749102,  0.61879477,  0.04795043],\n",
       "       [-1.71240215, -0.08461568,  0.57381378, -2.07264999, -0.18692637]])"
      ]
     },
     "execution_count": 27,
     "metadata": {},
     "output_type": "execute_result"
    }
   ],
   "source": [
    "np.random.standard_normal((3, 5))"
   ]
  },
  {
   "cell_type": "markdown",
   "id": "a7f13584",
   "metadata": {},
   "source": [
    "#### Sequences"
   ]
  },
  {
   "attachments": {
    "Sequences.PNG": {
     "image/png": "[encoded data removed]"
    }
   },
   "cell_type": "markdown",
   "id": "d8844940",
   "metadata": {},
   "source": [
    "![Sequences.PNG](attachment:Sequences.PNG)"
   ]
  },
  {
   "cell_type": "code",
   "execution_count": 28,
   "id": "733be73b-f0ec-4527-bbd0-0e49e5a2aadb",
   "metadata": {},
   "outputs": [
    {
     "data": {
      "text/plain": [
       "array([1., 4., 7.])"
      ]
     },
     "execution_count": 28,
     "metadata": {},
     "output_type": "execute_result"
    }
   ],
   "source": [
    "np.arange(1,10,3,dtype='float')"
   ]
  },
  {
   "cell_type": "code",
   "execution_count": 29,
   "id": "557c34bf-f7d9-4338-8583-1e183319ea56",
   "metadata": {},
   "outputs": [
    {
     "data": {
      "text/plain": [
       "array([ 1.,  4.,  7., 10.])"
      ]
     },
     "execution_count": 29,
     "metadata": {},
     "output_type": "execute_result"
    }
   ],
   "source": [
    "np.linspace(1, 10, 4)"
   ]
  },
  {
   "cell_type": "markdown",
   "id": "0416f4f6",
   "metadata": {},
   "source": [
    "#### Mask"
   ]
  },
  {
   "cell_type": "code",
   "execution_count": 30,
   "id": "dcf47e37-4d24-4b21-ab20-1f57e881817e",
   "metadata": {},
   "outputs": [
    {
     "data": {
      "text/plain": [
       "array([3, 4])"
      ]
     },
     "execution_count": 30,
     "metadata": {},
     "output_type": "execute_result"
    }
   ],
   "source": [
    "a = np.array([[1,2], [3,4]])\n",
    "my_mask = a>2\n",
    "a[my_mask]"
   ]
  },
  {
   "cell_type": "code",
   "execution_count": 31,
   "id": "64356fae",
   "metadata": {},
   "outputs": [
    {
     "data": {
      "text/plain": [
       "array([2, 3])"
      ]
     },
     "execution_count": 31,
     "metadata": {},
     "output_type": "execute_result"
    }
   ],
   "source": [
    "my_mask2 = np.logical_and(a>1,a<4)\n",
    "a[my_mask2]"
   ]
  },
  {
   "cell_type": "markdown",
   "id": "eabad984",
   "metadata": {},
   "source": [
    "#### Array creation"
   ]
  },
  {
   "cell_type": "code",
   "execution_count": 32,
   "id": "ee223ce4",
   "metadata": {},
   "outputs": [
    {
     "data": {
      "text/plain": [
       "array([[0., 0.],\n",
       "       [0., 0.],\n",
       "       [0., 0.]])"
      ]
     },
     "execution_count": 32,
     "metadata": {},
     "output_type": "execute_result"
    }
   ],
   "source": [
    "my_zeros = np.zeros((3,2))\n",
    "my_zeros"
   ]
  },
  {
   "cell_type": "code",
   "execution_count": 33,
   "id": "73746f7b",
   "metadata": {},
   "outputs": [
    {
     "data": {
      "text/plain": [
       "array([[1., 1.],\n",
       "       [1., 1.],\n",
       "       [1., 1.]])"
      ]
     },
     "execution_count": 33,
     "metadata": {},
     "output_type": "execute_result"
    }
   ],
   "source": [
    "my_ones = np.ones((3,2))\n",
    "my_ones"
   ]
  },
  {
   "cell_type": "code",
   "execution_count": 34,
   "id": "f290eff2",
   "metadata": {},
   "outputs": [
    {
     "data": {
      "text/plain": [
       "6"
      ]
     },
     "execution_count": 34,
     "metadata": {},
     "output_type": "execute_result"
    }
   ],
   "source": [
    "np.size(my_ones)"
   ]
  },
  {
   "cell_type": "code",
   "execution_count": 35,
   "id": "132fbc37",
   "metadata": {},
   "outputs": [
    {
     "data": {
      "text/plain": [
       "(3, 2)"
      ]
     },
     "execution_count": 35,
     "metadata": {},
     "output_type": "execute_result"
    }
   ],
   "source": [
    "np.shape(my_ones)"
   ]
  },
  {
   "cell_type": "markdown",
   "id": "14ce63ae",
   "metadata": {},
   "source": [
    "#### Sort"
   ]
  },
  {
   "cell_type": "code",
   "execution_count": 36,
   "id": "d3afd1b3",
   "metadata": {},
   "outputs": [
    {
     "name": "stdout",
     "output_type": "stream",
     "text": [
      "[[1 4]\n",
      " [3 2]]\n"
     ]
    },
    {
     "data": {
      "text/plain": [
       "array([[1, 2],\n",
       "       [3, 4]])"
      ]
     },
     "execution_count": 36,
     "metadata": {},
     "output_type": "execute_result"
    }
   ],
   "source": [
    "a = np.array([[1,4],[3,2]])\n",
    "print(a)\n",
    "np.sort(a, axis=0)"
   ]
  },
  {
   "cell_type": "code",
   "execution_count": 37,
   "id": "78e54293",
   "metadata": {},
   "outputs": [
    {
     "data": {
      "text/plain": [
       "array([[0, 1],\n",
       "       [1, 0]], dtype=int64)"
      ]
     },
     "execution_count": 37,
     "metadata": {},
     "output_type": "execute_result"
    }
   ],
   "source": [
    "np.argsort(a)"
   ]
  },
  {
   "cell_type": "markdown",
   "id": "d95ccac5",
   "metadata": {},
   "source": [
    "#### Data Analysis"
   ]
  },
  {
   "cell_type": "code",
   "execution_count": 38,
   "id": "2102500d",
   "metadata": {},
   "outputs": [],
   "source": [
    "a = np.array([1, 2, 3, 4, 1, 3])\n",
    "b = np.array([7, 8, 9, 1, 3])"
   ]
  },
  {
   "cell_type": "code",
   "execution_count": 39,
   "id": "e7a63fac",
   "metadata": {},
   "outputs": [
    {
     "data": {
      "text/plain": [
       "array([1, 2, 3, 4])"
      ]
     },
     "execution_count": 39,
     "metadata": {},
     "output_type": "execute_result"
    }
   ],
   "source": [
    " np.unique(a)"
   ]
  },
  {
   "cell_type": "code",
   "execution_count": 40,
   "id": "2bfca0bc",
   "metadata": {},
   "outputs": [
    {
     "data": {
      "text/plain": [
       "array([1, 2, 3, 4, 7, 8, 9])"
      ]
     },
     "execution_count": 40,
     "metadata": {},
     "output_type": "execute_result"
    }
   ],
   "source": [
    "np.union1d(a, b)"
   ]
  },
  {
   "cell_type": "code",
   "execution_count": 41,
   "id": "cb26aaaa",
   "metadata": {},
   "outputs": [
    {
     "data": {
      "text/plain": [
       "array([1, 3])"
      ]
     },
     "execution_count": 41,
     "metadata": {},
     "output_type": "execute_result"
    }
   ],
   "source": [
    "np.intersect1d(a, b)"
   ]
  },
  {
   "cell_type": "code",
   "execution_count": 42,
   "id": "9f56450d",
   "metadata": {},
   "outputs": [
    {
     "data": {
      "text/plain": [
       "2.3333333333333335"
      ]
     },
     "execution_count": 42,
     "metadata": {},
     "output_type": "execute_result"
    }
   ],
   "source": [
    "np.mean(a)"
   ]
  },
  {
   "cell_type": "code",
   "execution_count": 43,
   "id": "c188c6bb",
   "metadata": {},
   "outputs": [
    {
     "data": {
      "text/plain": [
       "2.5"
      ]
     },
     "execution_count": 43,
     "metadata": {},
     "output_type": "execute_result"
    }
   ],
   "source": [
    "np.median(a)"
   ]
  },
  {
   "cell_type": "code",
   "execution_count": 44,
   "id": "ca226c54",
   "metadata": {},
   "outputs": [
    {
     "data": {
      "text/plain": [
       "1.1055415967851334"
      ]
     },
     "execution_count": 44,
     "metadata": {},
     "output_type": "execute_result"
    }
   ],
   "source": [
    "np.std(a)"
   ]
  },
  {
   "cell_type": "code",
   "execution_count": 45,
   "id": "fd55f0aa",
   "metadata": {},
   "outputs": [
    {
     "data": {
      "text/plain": [
       "1.2222222222222223"
      ]
     },
     "execution_count": 45,
     "metadata": {},
     "output_type": "execute_result"
    }
   ],
   "source": [
    "np.var(a)"
   ]
  },
  {
   "cell_type": "markdown",
   "id": "ca8dbffe",
   "metadata": {
    "tags": []
   },
   "source": [
    "#### numpy.polyval\n",
    "numpy.polyval(p, x) \\\n",
    "p[0]*x**(N-1) + p[1]*x**(N-2) + ... + p[N-2]*x + p[N-1]"
   ]
  },
  {
   "cell_type": "code",
   "execution_count": 51,
   "id": "8b2a87d0-0579-4394-93da-3fe7fc7653a3",
   "metadata": {},
   "outputs": [
    {
     "data": {
      "text/plain": [
       "76"
      ]
     },
     "execution_count": 51,
     "metadata": {},
     "output_type": "execute_result"
    }
   ],
   "source": [
    "coeff = np.array([3,0,1]) # 3 * X**2 + 1\n",
    "np.polyval(coeff, 5)  # 3 * 5**2 + 0 * 5**1 + 1"
   ]
  },
  {
   "cell_type": "code",
   "execution_count": 52,
   "id": "0e442f7f",
   "metadata": {},
   "outputs": [
    {
     "data": {
      "text/plain": [
       "array([6, 0])"
      ]
     },
     "execution_count": 52,
     "metadata": {},
     "output_type": "execute_result"
    }
   ],
   "source": [
    "np.polyder(coeff)  # Return the derivative of the specified order of a polynomial"
   ]
  },
  {
   "cell_type": "code",
   "execution_count": 53,
   "id": "09d067b9",
   "metadata": {},
   "outputs": [
    {
     "data": {
      "text/plain": [
       "array([1., 0., 1., 0.])"
      ]
     },
     "execution_count": 53,
     "metadata": {},
     "output_type": "execute_result"
    }
   ],
   "source": [
    "np.polyint(coeff) # Return an antiderivative (indefinite integral) of a polynomial"
   ]
  }
 ],
 "metadata": {
  "kernelspec": {
   "display_name": "Python 3 (ipykernel)",
   "language": "python",
   "name": "python3"
  },
  "language_info": {
   "codemirror_mode": {
    "name": "ipython",
    "version": 3
   },
   "file_extension": ".py",
   "mimetype": "text/x-python",
   "name": "python",
   "nbconvert_exporter": "python",
   "pygments_lexer": "ipython3",
   "version": "3.9.7"
  }
 },
 "nbformat": 4,
 "nbformat_minor": 5
}
