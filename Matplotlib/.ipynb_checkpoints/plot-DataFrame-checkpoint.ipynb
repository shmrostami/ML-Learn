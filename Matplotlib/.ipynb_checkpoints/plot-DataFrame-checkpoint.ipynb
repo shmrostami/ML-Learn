{
 "cells": [
  {
   "cell_type": "code",
   "execution_count": 1,
   "metadata": {},
   "outputs": [],
   "source": [
    "import matplotlib.pyplot as plt\n",
    "import pandas as pd\n",
    "import numpy as np"
   ]
  },
  {
   "cell_type": "markdown",
   "metadata": {},
   "source": [
    "\\\n",
    "**Example 1**"
   ]
  },
  {
   "cell_type": "code",
   "execution_count": 2,
   "metadata": {},
   "outputs": [
    {
     "data": {
      "text/html": [
       "<div>\n",
       "<style scoped>\n",
       "    .dataframe tbody tr th:only-of-type {\n",
       "        vertical-align: middle;\n",
       "    }\n",
       "\n",
       "    .dataframe tbody tr th {\n",
       "        vertical-align: top;\n",
       "    }\n",
       "\n",
       "    .dataframe thead th {\n",
       "        text-align: right;\n",
       "    }\n",
       "</style>\n",
       "<table border=\"1\" class=\"dataframe\">\n",
       "  <thead>\n",
       "    <tr style=\"text-align: right;\">\n",
       "      <th></th>\n",
       "      <th>a</th>\n",
       "      <th>b</th>\n",
       "      <th>c</th>\n",
       "      <th>d</th>\n",
       "    </tr>\n",
       "  </thead>\n",
       "  <tbody>\n",
       "    <tr>\n",
       "      <th>0</th>\n",
       "      <td>0.440716</td>\n",
       "      <td>0.839331</td>\n",
       "      <td>0.659675</td>\n",
       "      <td>0.682671</td>\n",
       "    </tr>\n",
       "    <tr>\n",
       "      <th>1</th>\n",
       "      <td>0.064683</td>\n",
       "      <td>0.579804</td>\n",
       "      <td>0.407481</td>\n",
       "      <td>0.651041</td>\n",
       "    </tr>\n",
       "    <tr>\n",
       "      <th>2</th>\n",
       "      <td>0.845732</td>\n",
       "      <td>0.426562</td>\n",
       "      <td>0.185526</td>\n",
       "      <td>0.303786</td>\n",
       "    </tr>\n",
       "    <tr>\n",
       "      <th>3</th>\n",
       "      <td>0.511292</td>\n",
       "      <td>0.988013</td>\n",
       "      <td>0.835532</td>\n",
       "      <td>0.216904</td>\n",
       "    </tr>\n",
       "    <tr>\n",
       "      <th>4</th>\n",
       "      <td>0.011296</td>\n",
       "      <td>0.539784</td>\n",
       "      <td>0.156585</td>\n",
       "      <td>0.308943</td>\n",
       "    </tr>\n",
       "  </tbody>\n",
       "</table>\n",
       "</div>"
      ],
      "text/plain": [
       "          a         b         c         d\n",
       "0  0.440716  0.839331  0.659675  0.682671\n",
       "1  0.064683  0.579804  0.407481  0.651041\n",
       "2  0.845732  0.426562  0.185526  0.303786\n",
       "3  0.511292  0.988013  0.835532  0.216904\n",
       "4  0.011296  0.539784  0.156585  0.308943"
      ]
     },
     "execution_count": 2,
     "metadata": {},
     "output_type": "execute_result"
    }
   ],
   "source": [
    "df = pd.DataFrame(np.random.rand(50, 4), columns=['a', 'b', 'c', 'd'])\n",
    "df.head()"
   ]
  },
  {
   "cell_type": "code",
   "execution_count": 5,
   "metadata": {},
   "outputs": [
    {
     "data": {
      "image/png": "[encoded data removed]",
      "text/plain": [
       "<Figure size 432x288 with 1 Axes>"
      ]
     },
     "metadata": {
      "needs_background": "light"
     },
     "output_type": "display_data"
    }
   ],
   "source": [
    "k = df.plot.scatter(x='a', y='b', color='red', label='Group 1')\n",
    "df.plot.scatter(x='c', y='d', color='blue', label='Group 2', ax=k);"
   ]
  },
  {
   "cell_type": "markdown",
   "metadata": {},
   "source": [
    "\\\n",
    "**Example 2**"
   ]
  },
  {
   "cell_type": "code",
   "execution_count": 5,
   "metadata": {},
   "outputs": [
    {
     "data": {
      "text/html": [
       "<div>\n",
       "<style scoped>\n",
       "    .dataframe tbody tr th:only-of-type {\n",
       "        vertical-align: middle;\n",
       "    }\n",
       "\n",
       "    .dataframe tbody tr th {\n",
       "        vertical-align: top;\n",
       "    }\n",
       "\n",
       "    .dataframe thead th {\n",
       "        text-align: right;\n",
       "    }\n",
       "</style>\n",
       "<table border=\"1\" class=\"dataframe\">\n",
       "  <thead>\n",
       "    <tr style=\"text-align: right;\">\n",
       "      <th></th>\n",
       "      <th>a</th>\n",
       "      <th>b</th>\n",
       "      <th>c</th>\n",
       "      <th>d</th>\n",
       "    </tr>\n",
       "  </thead>\n",
       "  <tbody>\n",
       "    <tr>\n",
       "      <th>0</th>\n",
       "      <td>0.753777</td>\n",
       "      <td>0.483505</td>\n",
       "      <td>0.794257</td>\n",
       "      <td>0.980941</td>\n",
       "    </tr>\n",
       "    <tr>\n",
       "      <th>1</th>\n",
       "      <td>0.957603</td>\n",
       "      <td>0.380042</td>\n",
       "      <td>0.446740</td>\n",
       "      <td>0.698437</td>\n",
       "    </tr>\n",
       "    <tr>\n",
       "      <th>2</th>\n",
       "      <td>0.365804</td>\n",
       "      <td>0.944859</td>\n",
       "      <td>0.227371</td>\n",
       "      <td>0.884392</td>\n",
       "    </tr>\n",
       "    <tr>\n",
       "      <th>3</th>\n",
       "      <td>0.351254</td>\n",
       "      <td>0.597108</td>\n",
       "      <td>0.773376</td>\n",
       "      <td>0.943027</td>\n",
       "    </tr>\n",
       "    <tr>\n",
       "      <th>4</th>\n",
       "      <td>0.372070</td>\n",
       "      <td>0.920077</td>\n",
       "      <td>0.613169</td>\n",
       "      <td>0.337495</td>\n",
       "    </tr>\n",
       "    <tr>\n",
       "      <th>5</th>\n",
       "      <td>0.690226</td>\n",
       "      <td>0.692822</td>\n",
       "      <td>0.859404</td>\n",
       "      <td>0.168313</td>\n",
       "    </tr>\n",
       "    <tr>\n",
       "      <th>6</th>\n",
       "      <td>0.931631</td>\n",
       "      <td>0.152444</td>\n",
       "      <td>0.938498</td>\n",
       "      <td>0.576084</td>\n",
       "    </tr>\n",
       "    <tr>\n",
       "      <th>7</th>\n",
       "      <td>0.289745</td>\n",
       "      <td>0.547671</td>\n",
       "      <td>0.962537</td>\n",
       "      <td>0.778888</td>\n",
       "    </tr>\n",
       "    <tr>\n",
       "      <th>8</th>\n",
       "      <td>0.758522</td>\n",
       "      <td>0.167360</td>\n",
       "      <td>0.977171</td>\n",
       "      <td>0.269210</td>\n",
       "    </tr>\n",
       "    <tr>\n",
       "      <th>9</th>\n",
       "      <td>0.436149</td>\n",
       "      <td>0.080188</td>\n",
       "      <td>0.730899</td>\n",
       "      <td>0.028772</td>\n",
       "    </tr>\n",
       "  </tbody>\n",
       "</table>\n",
       "</div>"
      ],
      "text/plain": [
       "          a         b         c         d\n",
       "0  0.753777  0.483505  0.794257  0.980941\n",
       "1  0.957603  0.380042  0.446740  0.698437\n",
       "2  0.365804  0.944859  0.227371  0.884392\n",
       "3  0.351254  0.597108  0.773376  0.943027\n",
       "4  0.372070  0.920077  0.613169  0.337495\n",
       "5  0.690226  0.692822  0.859404  0.168313\n",
       "6  0.931631  0.152444  0.938498  0.576084\n",
       "7  0.289745  0.547671  0.962537  0.778888\n",
       "8  0.758522  0.167360  0.977171  0.269210\n",
       "9  0.436149  0.080188  0.730899  0.028772"
      ]
     },
     "execution_count": 5,
     "metadata": {},
     "output_type": "execute_result"
    }
   ],
   "source": [
    "df = pd.DataFrame(np.random.rand(10, 4), columns=['a', 'b', 'c', 'd'])\n",
    "df"
   ]
  },
  {
   "cell_type": "code",
   "execution_count": 6,
   "metadata": {},
   "outputs": [
    {
     "data": {
      "image/png": "[encoded data removed]",
      "text/plain": [
       "<Figure size 432x288 with 1 Axes>"
      ]
     },
     "metadata": {
      "needs_background": "light"
     },
     "output_type": "display_data"
    }
   ],
   "source": [
    "df.plot.bar();"
   ]
  },
  {
   "cell_type": "code",
   "execution_count": 7,
   "metadata": {},
   "outputs": [
    {
     "data": {
      "image/png": "[encoded data removed]",
      "text/plain": [
       "<Figure size 432x288 with 1 Axes>"
      ]
     },
     "metadata": {
      "needs_background": "light"
     },
     "output_type": "display_data"
    }
   ],
   "source": [
    "df.plot.bar(stacked=True);"
   ]
  },
  {
   "cell_type": "code",
   "execution_count": 8,
   "metadata": {},
   "outputs": [
    {
     "data": {
      "image/png": "[encoded data removed]",
      "text/plain": [
       "<Figure size 432x288 with 1 Axes>"
      ]
     },
     "metadata": {
      "needs_background": "light"
     },
     "output_type": "display_data"
    }
   ],
   "source": [
    "df.plot.barh(stacked=True);"
   ]
  },
  {
   "cell_type": "markdown",
   "metadata": {},
   "source": [
    "\\\n",
    "**Example 3**"
   ]
  },
  {
   "cell_type": "code",
   "execution_count": 9,
   "metadata": {},
   "outputs": [
    {
     "data": {
      "text/html": [
       "<div>\n",
       "<style scoped>\n",
       "    .dataframe tbody tr th:only-of-type {\n",
       "        vertical-align: middle;\n",
       "    }\n",
       "\n",
       "    .dataframe tbody tr th {\n",
       "        vertical-align: top;\n",
       "    }\n",
       "\n",
       "    .dataframe thead th {\n",
       "        text-align: right;\n",
       "    }\n",
       "</style>\n",
       "<table border=\"1\" class=\"dataframe\">\n",
       "  <thead>\n",
       "    <tr style=\"text-align: right;\">\n",
       "      <th></th>\n",
       "      <th>A</th>\n",
       "      <th>B</th>\n",
       "      <th>C</th>\n",
       "      <th>D</th>\n",
       "      <th>E</th>\n",
       "    </tr>\n",
       "  </thead>\n",
       "  <tbody>\n",
       "    <tr>\n",
       "      <th>0</th>\n",
       "      <td>0.780114</td>\n",
       "      <td>0.767658</td>\n",
       "      <td>0.501938</td>\n",
       "      <td>0.947073</td>\n",
       "      <td>0.720257</td>\n",
       "    </tr>\n",
       "    <tr>\n",
       "      <th>1</th>\n",
       "      <td>0.164693</td>\n",
       "      <td>0.338857</td>\n",
       "      <td>0.615928</td>\n",
       "      <td>0.454473</td>\n",
       "      <td>0.290776</td>\n",
       "    </tr>\n",
       "    <tr>\n",
       "      <th>2</th>\n",
       "      <td>0.792323</td>\n",
       "      <td>0.680454</td>\n",
       "      <td>0.037210</td>\n",
       "      <td>0.947589</td>\n",
       "      <td>0.773033</td>\n",
       "    </tr>\n",
       "    <tr>\n",
       "      <th>3</th>\n",
       "      <td>0.036861</td>\n",
       "      <td>0.468252</td>\n",
       "      <td>0.140391</td>\n",
       "      <td>0.394133</td>\n",
       "      <td>0.967233</td>\n",
       "    </tr>\n",
       "    <tr>\n",
       "      <th>4</th>\n",
       "      <td>0.697549</td>\n",
       "      <td>0.895471</td>\n",
       "      <td>0.478138</td>\n",
       "      <td>0.677518</td>\n",
       "      <td>0.901029</td>\n",
       "    </tr>\n",
       "    <tr>\n",
       "      <th>5</th>\n",
       "      <td>0.331174</td>\n",
       "      <td>0.514667</td>\n",
       "      <td>0.471686</td>\n",
       "      <td>0.218390</td>\n",
       "      <td>0.163441</td>\n",
       "    </tr>\n",
       "    <tr>\n",
       "      <th>6</th>\n",
       "      <td>0.739736</td>\n",
       "      <td>0.766482</td>\n",
       "      <td>0.501713</td>\n",
       "      <td>0.314995</td>\n",
       "      <td>0.556960</td>\n",
       "    </tr>\n",
       "    <tr>\n",
       "      <th>7</th>\n",
       "      <td>0.150529</td>\n",
       "      <td>0.500064</td>\n",
       "      <td>0.095123</td>\n",
       "      <td>0.635018</td>\n",
       "      <td>0.974486</td>\n",
       "    </tr>\n",
       "    <tr>\n",
       "      <th>8</th>\n",
       "      <td>0.018658</td>\n",
       "      <td>0.278160</td>\n",
       "      <td>0.996469</td>\n",
       "      <td>0.900775</td>\n",
       "      <td>0.922089</td>\n",
       "    </tr>\n",
       "    <tr>\n",
       "      <th>9</th>\n",
       "      <td>0.948642</td>\n",
       "      <td>0.787020</td>\n",
       "      <td>0.950709</td>\n",
       "      <td>0.629840</td>\n",
       "      <td>0.112384</td>\n",
       "    </tr>\n",
       "  </tbody>\n",
       "</table>\n",
       "</div>"
      ],
      "text/plain": [
       "          A         B         C         D         E\n",
       "0  0.780114  0.767658  0.501938  0.947073  0.720257\n",
       "1  0.164693  0.338857  0.615928  0.454473  0.290776\n",
       "2  0.792323  0.680454  0.037210  0.947589  0.773033\n",
       "3  0.036861  0.468252  0.140391  0.394133  0.967233\n",
       "4  0.697549  0.895471  0.478138  0.677518  0.901029\n",
       "5  0.331174  0.514667  0.471686  0.218390  0.163441\n",
       "6  0.739736  0.766482  0.501713  0.314995  0.556960\n",
       "7  0.150529  0.500064  0.095123  0.635018  0.974486\n",
       "8  0.018658  0.278160  0.996469  0.900775  0.922089\n",
       "9  0.948642  0.787020  0.950709  0.629840  0.112384"
      ]
     },
     "execution_count": 9,
     "metadata": {},
     "output_type": "execute_result"
    }
   ],
   "source": [
    "df = pd.DataFrame(np.random.rand(10, 5), columns=['A', 'B', 'C', 'D', 'E'])\n",
    "df"
   ]
  },
  {
   "cell_type": "code",
   "execution_count": 10,
   "metadata": {},
   "outputs": [
    {
     "data": {
      "image/png": "[encoded data removed]",
      "text/plain": [
       "<Figure size 432x288 with 1 Axes>"
      ]
     },
     "metadata": {
      "needs_background": "light"
     },
     "output_type": "display_data"
    }
   ],
   "source": [
    "df.plot.box();"
   ]
  },
  {
   "cell_type": "code",
   "execution_count": 11,
   "metadata": {},
   "outputs": [
    {
     "data": {
      "image/png": "[encoded data removed]",
      "text/plain": [
       "<Figure size 432x288 with 1 Axes>"
      ]
     },
     "metadata": {
      "needs_background": "light"
     },
     "output_type": "display_data"
    }
   ],
   "source": [
    "df.plot.box(color={'boxes': 'Green', 'whiskers': 'red','medians': 'Blue', 'caps': 'Gray'});"
   ]
  },
  {
   "cell_type": "code",
   "execution_count": 12,
   "metadata": {
    "tags": []
   },
   "outputs": [
    {
     "data": {
      "image/png": "[encoded data removed]",
      "text/plain": [
       "<Figure size 432x288 with 1 Axes>"
      ]
     },
     "metadata": {
      "needs_background": "light"
     },
     "output_type": "display_data"
    }
   ],
   "source": [
    "df.plot.box(vert=False, positions=[1, 4, 5, 6, 8]);"
   ]
  },
  {
   "cell_type": "markdown",
   "metadata": {},
   "source": [
    "\\\n",
    "**Example 4**"
   ]
  },
  {
   "cell_type": "code",
   "execution_count": 15,
   "metadata": {},
   "outputs": [
    {
     "data": {
      "image/png": "[encoded data removed]",
      "text/plain": [
       "<Figure size 432x288 with 1 Axes>"
      ]
     },
     "metadata": {
      "needs_background": "light"
     },
     "output_type": "display_data"
    }
   ],
   "source": [
    "df = pd.DataFrame(np.random.rand(10, 5))\n",
    "df.boxplot();"
   ]
  },
  {
   "cell_type": "code",
   "execution_count": null,
   "metadata": {},
   "outputs": [],
   "source": []
  }
 ],
 "metadata": {
  "kernelspec": {
   "display_name": "Python 3 (ipykernel)",
   "language": "python",
   "name": "python3"
  },
  "language_info": {
   "codemirror_mode": {
    "name": "ipython",
    "version": 3
   },
   "file_extension": ".py",
   "mimetype": "text/x-python",
   "name": "python",
   "nbconvert_exporter": "python",
   "pygments_lexer": "ipython3",
   "version": "3.9.7"
  }
 },
 "nbformat": 4,
 "nbformat_minor": 4
}
