{
 "cells": [
  {
   "cell_type": "code",
   "execution_count": 1,
   "metadata": {},
   "outputs": [],
   "source": [
    "import numpy as np \n",
    "import math"
   ]
  },
  {
   "cell_type": "code",
   "execution_count": 2,
   "metadata": {},
   "outputs": [],
   "source": [
    "def relu(X):\n",
    "    return np.maximum(X, 0)"
   ]
  },
  {
   "cell_type": "code",
   "execution_count": 3,
   "metadata": {},
   "outputs": [],
   "source": [
    "def build_model(X , hidden_nodes , output_dim=2):\n",
    "    model = {} \n",
    "    input_dim = X.shape[1]\n",
    "    \n",
    "    model['W1'] = np.random.randn(input_dim, hidden_nodes) / np.sqrt(input_dim)\n",
    "    model['b1'] = np.zeros((1, hidden_nodes))\n",
    "    model['W2'] = np.random.randn(hidden_nodes, output_dim) / np.sqrt(hidden_nodes)\n",
    "    model['b2'] = np.zeros((1, output_dim))\n",
    "    \n",
    "    return model"
   ]
  },
  {
   "cell_type": "code",
   "execution_count": 4,
   "metadata": {},
   "outputs": [],
   "source": [
    "def feed_forward(model, x):\n",
    "    W1, b1, W2, b2 = model['W1'], model['b1'], model['W2'], model['b2']\n",
    "    z1 = x.dot(W1) + b1\n",
    "    a1 = relu(z1)\n",
    "    z2 = a1.dot(W2) + b2\n",
    "    exp_scores = np.exp(z2)\n",
    "    out = exp_scores / np.sum(exp_scores, axis=1, keepdims=True)\n",
    "    return z1, a1, z2, out"
   ]
  },
  {
   "cell_type": "code",
   "execution_count": 5,
   "metadata": {},
   "outputs": [],
   "source": [
    "def calculate_loss(model,X,y,reg_lambda):\n",
    "    num_examples = X.shape[0]\n",
    "    W1, b1, W2, b2 = model['W1'], model['b1'], model['W2'], model['b2']\n",
    "    \n",
    "    z1, a1, z2, out = feed_forward(model, X)\n",
    "    probs = out / np.sum(out, axis=1, keepdims=True)\n",
    "    \n",
    "    corect_logprobs = -np.log(probs[range(num_examples), y])\n",
    "    loss = np.sum(corect_logprobs)\n",
    "    \n",
    "    # Add regulatization term to loss (optional)\n",
    "    loss = loss + reg_lambda/2 * (np.sum(np.square(W1)) + np.sum(np.square(W2)))\n",
    "    return 1./num_examples * loss"
   ]
  },
  {
   "cell_type": "code",
   "execution_count": 6,
   "metadata": {},
   "outputs": [],
   "source": [
    "def relu_derivative(X):\n",
    "    return 1. * (X > 0)"
   ]
  },
  {
   "cell_type": "code",
   "execution_count": 7,
   "metadata": {},
   "outputs": [],
   "source": [
    "def backprop(X,y,model,z1,a1,z2,output,reg_lambda):\n",
    "    delta3 = output\n",
    "    delta3[range(X.shape[0]), y] -= 1      #yhat - y\n",
    "    dW2 = (a1.T).dot(delta3)\n",
    "    db2 = np.sum(delta3, axis=0, keepdims=True)\n",
    "    \n",
    "    delta2 = delta3.dot(model['W2'].T) * relu_derivative(a1) \n",
    "    dW1 = np.dot(X.T, delta2)\n",
    "    db1 = np.sum(delta2, axis=0)\n",
    "   \n",
    "    # Add regularization terms\n",
    "    dW2 = dW2 + reg_lambda * model['W2']\n",
    "    dW1 = dW1 + reg_lambda * model['W1']\n",
    "    return dW1, dW2, db1, db2"
   ]
  },
  {
   "cell_type": "code",
   "execution_count": 8,
   "metadata": {},
   "outputs": [],
   "source": [
    "def train(model, X, y, num_passes=10000, reg_lambda = .1, learning_rate=0.1):\n",
    "    # Batch gradient descent\n",
    "    done = False\n",
    "    previous_loss = float('inf')\n",
    "    i = 0\n",
    "    losses = []\n",
    "    \n",
    "    while done == False:  \n",
    "        z1,a1,z2,output = feed_forward(model, X)\n",
    "        dW1, dW2, db1, db2 = backprop(X,y,model,z1,a1,z2,output,reg_lambda)\n",
    "        \n",
    "        model['W1'] -= learning_rate * dW1\n",
    "        model['b1'] -= learning_rate * db1\n",
    "        model['W2'] -= learning_rate * dW2\n",
    "        model['b2'] -= learning_rate * db2\n",
    "        \n",
    "        if i % 1000 == 0:\n",
    "            loss = calculate_loss(model, X, y, reg_lambda)\n",
    "            losses.append(loss)\n",
    "            print( \"Loss after iteration %i: %f\" %(i, loss)  )\n",
    "            if (previous_loss-loss)/previous_loss < 0.01:\n",
    "                   done = True\n",
    "                    #print i\n",
    "            previous_loss = loss\n",
    "        i += 1\n",
    "    return model, losses"
   ]
  },
  {
   "cell_type": "code",
   "execution_count": 9,
   "metadata": {},
   "outputs": [],
   "source": [
    "X = np.array( [[ 1 , 1], [ 2 , 2],[ 7 , 7], [ 8 , 8], [ 9 , 9]] )\n",
    "\n",
    "y = np.array([0,0,1,1,1])"
   ]
  },
  {
   "cell_type": "code",
   "execution_count": 10,
   "metadata": {},
   "outputs": [],
   "source": [
    "model = build_model(X , 3 , 2)"
   ]
  },
  {
   "cell_type": "code",
   "execution_count": 11,
   "metadata": {},
   "outputs": [
    {
     "name": "stdout",
     "output_type": "stream",
     "text": [
      "Loss after iteration 0: 0.954058\n",
      "Loss after iteration 1000: 0.019403\n",
      "Loss after iteration 2000: 0.014625\n"
     ]
    },
    {
     "name": "stderr",
     "output_type": "stream",
     "text": [
      "C:\\Users\\ADMINI~1\\AppData\\Local\\Temp/ipykernel_11748/3779028765.py:21: RuntimeWarning: invalid value encountered in double_scalars\n",
      "  if (previous_loss-loss)/previous_loss < 0.01:\n"
     ]
    },
    {
     "name": "stdout",
     "output_type": "stream",
     "text": [
      "Loss after iteration 3000: 0.012581\n",
      "Loss after iteration 4000: 0.011155\n",
      "Loss after iteration 5000: 0.010027\n",
      "Loss after iteration 6000: 0.009098\n",
      "Loss after iteration 7000: 0.008321\n",
      "Loss after iteration 8000: 0.007667\n",
      "Loss after iteration 9000: 0.007112\n",
      "Loss after iteration 10000: 0.006640\n",
      "Loss after iteration 11000: 0.006236\n",
      "Loss after iteration 12000: 0.005890\n",
      "Loss after iteration 13000: 0.005592\n",
      "Loss after iteration 14000: 0.005335\n",
      "Loss after iteration 15000: 0.005112\n",
      "Loss after iteration 16000: 0.004918\n",
      "Loss after iteration 17000: 0.004749\n",
      "Loss after iteration 18000: 0.004600\n",
      "Loss after iteration 19000: 0.004470\n",
      "Loss after iteration 20000: 0.004356\n",
      "Loss after iteration 21000: 0.004254\n",
      "Loss after iteration 22000: 0.004165\n",
      "Loss after iteration 23000: 0.004085\n",
      "Loss after iteration 24000: 0.004014\n",
      "Loss after iteration 25000: 0.003951\n",
      "Loss after iteration 26000: 0.003894\n",
      "Loss after iteration 27000: 0.003843\n",
      "Loss after iteration 28000: 0.003799\n",
      "Loss after iteration 29000: 0.003762\n"
     ]
    }
   ],
   "source": [
    "model, losses = train ( model, X , y , reg_lambda = 0.01, learning_rate = 0.01 )"
   ]
  },
  {
   "cell_type": "code",
   "execution_count": 12,
   "metadata": {},
   "outputs": [
    {
     "data": {
      "text/plain": [
       "array([0, 0, 1, 1, 1], dtype=int64)"
      ]
     },
     "execution_count": 12,
     "metadata": {},
     "output_type": "execute_result"
    }
   ],
   "source": [
    "output = feed_forward(model, X)\n",
    "preds  = np.argmax(output[3] , axis=1)\n",
    "preds"
   ]
  },
  {
   "cell_type": "code",
   "execution_count": null,
   "metadata": {},
   "outputs": [],
   "source": []
  }
 ],
 "metadata": {
  "kernelspec": {
   "display_name": "Python 3 (ipykernel)",
   "language": "python",
   "name": "python3"
  },
  "language_info": {
   "codemirror_mode": {
    "name": "ipython",
    "version": 3
   },
   "file_extension": ".py",
   "mimetype": "text/x-python",
   "name": "python",
   "nbconvert_exporter": "python",
   "pygments_lexer": "ipython3",
   "version": "3.8.12"
  }
 },
 "nbformat": 4,
 "nbformat_minor": 4
}
