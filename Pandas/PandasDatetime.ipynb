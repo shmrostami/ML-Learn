{
 "cells": [
  {
   "cell_type": "markdown",
   "metadata": {},
   "source": [
    "# Pandas Datetime"
   ]
  },
  {
   "cell_type": "code",
   "execution_count": 1,
   "metadata": {},
   "outputs": [],
   "source": [
    "# For reference, please see https://pandas.pydata.org/pandas-docs/stable/user_guide/timeseries.html\n",
    "\n",
    "import numpy as np\n",
    "import pandas as pd\n",
    "import datetime"
   ]
  },
  {
   "cell_type": "markdown",
   "metadata": {},
   "source": [
    "## Basic Date Time Operations"
   ]
  },
  {
   "cell_type": "code",
   "execution_count": 2,
   "metadata": {},
   "outputs": [
    {
     "data": {
      "text/plain": [
       "DatetimeIndex(['2019-10-15', '2019-10-15', '2019-10-15'], dtype='datetime64[ns]', freq=None)"
      ]
     },
     "execution_count": 2,
     "metadata": {},
     "output_type": "execute_result"
    }
   ],
   "source": [
    "# Parsing time series information from various sources and formats\n",
    "\n",
    "date_var = pd.to_datetime(['10/15/2019', np.datetime64('2019-10-15'), datetime.datetime(2019, 10, 15)])\n",
    "date_var"
   ]
  },
  {
   "cell_type": "code",
   "execution_count": 3,
   "metadata": {},
   "outputs": [
    {
     "data": {
      "text/plain": [
       "DatetimeIndex(['2019-10-15', '2019-10-16', '2019-10-17', '2019-10-18',\n",
       "               '2019-10-19'],\n",
       "              dtype='datetime64[ns]', freq='D')"
      ]
     },
     "execution_count": 3,
     "metadata": {},
     "output_type": "execute_result"
    }
   ],
   "source": [
    "# Generate sequences of fixed-frequency dates and time spans\n",
    "# Frequency is set to daily\n",
    "\n",
    "date_var = pd.date_range('2019-10-15', periods=5, freq='D')\n",
    "date_var"
   ]
  },
  {
   "cell_type": "code",
   "execution_count": 4,
   "metadata": {},
   "outputs": [
    {
     "data": {
      "text/plain": [
       "DatetimeIndex(['2019-10-15 00:00:00+00:00', '2019-10-16 00:00:00+00:00',\n",
       "               '2019-10-17 00:00:00+00:00', '2019-10-18 00:00:00+00:00',\n",
       "               '2019-10-19 00:00:00+00:00'],\n",
       "              dtype='datetime64[ns, UTC]', freq='D')"
      ]
     },
     "execution_count": 4,
     "metadata": {},
     "output_type": "execute_result"
    }
   ],
   "source": [
    "# Manipulating and converting date times with time zone information\n",
    "# UTC means Universal Time Coordinated, world clock time\n",
    "\n",
    "date_var = date_var.tz_localize('UTC')\n",
    "date_var"
   ]
  },
  {
   "cell_type": "code",
   "execution_count": 5,
   "metadata": {},
   "outputs": [
    {
     "data": {
      "text/plain": [
       "DatetimeIndex(['2019-10-14 20:00:00-04:00', '2019-10-15 20:00:00-04:00',\n",
       "               '2019-10-16 20:00:00-04:00', '2019-10-17 20:00:00-04:00',\n",
       "               '2019-10-18 20:00:00-04:00'],\n",
       "              dtype='datetime64[ns, US/Eastern]', freq='D')"
      ]
     },
     "execution_count": 5,
     "metadata": {},
     "output_type": "execute_result"
    }
   ],
   "source": [
    "# Convert to Eastern Time zone\n",
    "\n",
    "date_var.tz_convert('US/Eastern')"
   ]
  },
  {
   "cell_type": "code",
   "execution_count": 6,
   "metadata": {},
   "outputs": [
    {
     "data": {
      "text/plain": [
       "2019-10-01    0\n",
       "2019-10-02    1\n",
       "2019-10-03    2\n",
       "2019-10-04    3\n",
       "2019-10-05    4\n",
       "2019-10-06    5\n",
       "2019-10-07    6\n",
       "Freq: D, dtype: int64"
      ]
     },
     "execution_count": 6,
     "metadata": {},
     "output_type": "execute_result"
    }
   ],
   "source": [
    "# Resampling or converting a time series to a particular frequency\n",
    "\n",
    "idx = pd.date_range('2019-10-01', periods=7, freq='D')  # can change to 'S'  for seconds or 'H' hourly\n",
    "ts = pd.Series(range(len(idx)), index=idx)\n",
    "ts"
   ]
  },
  {
   "cell_type": "code",
   "execution_count": 7,
   "metadata": {},
   "outputs": [
    {
     "data": {
      "text/plain": [
       "2019-10-31    0\n",
       "2019-11-30    1\n",
       "2019-12-31    2\n",
       "2020-01-31    3\n",
       "2020-02-29    4\n",
       "2020-03-31    5\n",
       "2020-04-30    6\n",
       "2020-05-31    7\n",
       "2020-06-30    8\n",
       "2020-07-31    9\n",
       "Freq: M, dtype: int64"
      ]
     },
     "execution_count": 7,
     "metadata": {},
     "output_type": "execute_result"
    }
   ],
   "source": [
    "# Resampling or converting a time series to a particular frequency, another example\n",
    "\n",
    "idx = pd.date_range('2019-10-01', periods=10, freq='M')\n",
    "ts = pd.Series(range(len(idx)), index=idx)\n",
    "ts"
   ]
  },
  {
   "cell_type": "markdown",
   "metadata": {},
   "source": [
    "## Working with Timestamped Data"
   ]
  },
  {
   "cell_type": "code",
   "execution_count": 8,
   "metadata": {},
   "outputs": [
    {
     "data": {
      "text/plain": [
       "Timestamp('2019-07-15 00:00:00')"
      ]
     },
     "execution_count": 8,
     "metadata": {},
     "output_type": "execute_result"
    }
   ],
   "source": [
    "# For pandas objects, time means using the points in time.\n",
    "\n",
    "pd.Timestamp(datetime.datetime(2019, 7, 15))"
   ]
  },
  {
   "cell_type": "code",
   "execution_count": 9,
   "metadata": {},
   "outputs": [
    {
     "data": {
      "text/plain": [
       "Timestamp('2007-07-07 00:00:00')"
      ]
     },
     "execution_count": 9,
     "metadata": {},
     "output_type": "execute_result"
    }
   ],
   "source": [
    "# When you create a timestamp, notice that hours, minutes, and seconds are included, even when not specified.\n",
    "pd.Timestamp('2007-07-07')"
   ]
  },
  {
   "cell_type": "code",
   "execution_count": 10,
   "metadata": {},
   "outputs": [
    {
     "data": {
      "text/plain": [
       "Period('2019-10', 'M')"
      ]
     },
     "execution_count": 10,
     "metadata": {},
     "output_type": "execute_result"
    }
   ],
   "source": [
    "# Time in terms of a span or period.\n",
    "# The span represented by Period can be specified explicitly, or inferred from datetime string format.\n",
    "pd.Period('2019-10')"
   ]
  },
  {
   "cell_type": "code",
   "execution_count": 11,
   "metadata": {},
   "outputs": [
    {
     "data": {
      "text/plain": [
       "Period('2019-10-01', 'D')"
      ]
     },
     "execution_count": 11,
     "metadata": {},
     "output_type": "execute_result"
    }
   ],
   "source": [
    "pd.Period('2019-10', freq='D')"
   ]
  },
  {
   "cell_type": "code",
   "execution_count": 13,
   "metadata": {},
   "outputs": [
    {
     "data": {
      "text/plain": [
       "[Timestamp('2015-05-01 00:00:00'),\n",
       " Timestamp('2015-05-02 00:00:00'),\n",
       " Timestamp('2015-05-03 00:00:00')]"
      ]
     },
     "execution_count": 13,
     "metadata": {},
     "output_type": "execute_result"
    }
   ],
   "source": [
    "# Create a list of timestamps\n",
    "\n",
    "dates = [pd.Timestamp('2015-05-01'),\n",
    "         pd.Timestamp('2015-05-02'),\n",
    "         pd.Timestamp('2015-05-03')]\n",
    "dates"
   ]
  },
  {
   "cell_type": "code",
   "execution_count": 14,
   "metadata": {},
   "outputs": [
    {
     "data": {
      "text/plain": [
       "2015-05-01    0.185729\n",
       "2015-05-02    0.460114\n",
       "2015-05-03    1.918470\n",
       "dtype: float64"
      ]
     },
     "execution_count": 14,
     "metadata": {},
     "output_type": "execute_result"
    }
   ],
   "source": [
    "# Create a pandas series that use the dates\n",
    "# Random numbers from standard normal distribution\n",
    "\n",
    "ts = pd.Series(np.random.randn(3), dates)\n",
    "ts"
   ]
  },
  {
   "cell_type": "code",
   "execution_count": 15,
   "metadata": {},
   "outputs": [
    {
     "data": {
      "text/plain": [
       "pandas.core.indexes.datetimes.DatetimeIndex"
      ]
     },
     "execution_count": 15,
     "metadata": {},
     "output_type": "execute_result"
    }
   ],
   "source": [
    "# Verify type of index\n",
    "\n",
    "type(ts.index)"
   ]
  },
  {
   "cell_type": "code",
   "execution_count": 16,
   "metadata": {},
   "outputs": [
    {
     "data": {
      "text/plain": [
       "[Period('2017-07', 'M'), Period('2017-08', 'M'), Period('2017-09', 'M')]"
      ]
     },
     "execution_count": 16,
     "metadata": {},
     "output_type": "execute_result"
    }
   ],
   "source": [
    "# Create periods that are monthly\n",
    "\n",
    "periods = [pd.Period('2017-07'), pd.Period('2017-08'), pd.Period('2017-09')]\n",
    "periods"
   ]
  },
  {
   "cell_type": "code",
   "execution_count": 17,
   "metadata": {},
   "outputs": [
    {
     "data": {
      "text/plain": [
       "2017-07   -0.449947\n",
       "2017-08    0.036121\n",
       "2017-09    0.509469\n",
       "Freq: M, dtype: float64"
      ]
     },
     "execution_count": 17,
     "metadata": {},
     "output_type": "execute_result"
    }
   ],
   "source": [
    "# Create a pandas series, using the periods as index variable\n",
    "\n",
    "ts = pd.Series(np.random.randn(3), periods)\n",
    "ts"
   ]
  },
  {
   "cell_type": "code",
   "execution_count": 18,
   "metadata": {},
   "outputs": [
    {
     "data": {
      "text/plain": [
       "DatetimeIndex(['2019-10-01', '2019-10-02', '2019-10-03', '2019-10-04',\n",
       "               '2019-10-05', '2019-10-06', '2019-10-07', '2019-10-08',\n",
       "               '2019-10-09', '2019-10-10'],\n",
       "              dtype='datetime64[ns]', freq='D')"
      ]
     },
     "execution_count": 18,
     "metadata": {},
     "output_type": "execute_result"
    }
   ],
   "source": [
    "# Create a date range with 10 periods\n",
    "# Date is given as YYYYMMDD\n",
    "\n",
    "dates = pd.date_range('20191001', periods=10)\n",
    "dates"
   ]
  },
  {
   "cell_type": "markdown",
   "metadata": {},
   "source": [
    "## Converting to Datetime"
   ]
  },
  {
   "cell_type": "code",
   "execution_count": 19,
   "metadata": {},
   "outputs": [
    {
     "data": {
      "text/plain": [
       "0   2019-07-09\n",
       "1   2019-07-10\n",
       "2          NaT\n",
       "dtype: datetime64[ns]"
      ]
     },
     "execution_count": 19,
     "metadata": {},
     "output_type": "execute_result"
    }
   ],
   "source": [
    "# To convert a Series or list-like object of date-like objects e.g. strings, epochs, or a mixture, \n",
    "# you can use the to_datetime function.\n",
    "\n",
    "pd.to_datetime(pd.Series(['Jul 09, 2019', '2019-07-10', None]))"
   ]
  },
  {
   "cell_type": "code",
   "execution_count": 20,
   "metadata": {},
   "outputs": [
    {
     "data": {
      "text/plain": [
       "DatetimeIndex(['2005-12-25', '2005-12-31'], dtype='datetime64[ns]', freq=None)"
      ]
     },
     "execution_count": 20,
     "metadata": {},
     "output_type": "execute_result"
    }
   ],
   "source": [
    "# Convert dates to datetime\n",
    "\n",
    "pd.to_datetime(['2005/12/25', '2005.12.31'])"
   ]
  },
  {
   "cell_type": "code",
   "execution_count": 21,
   "metadata": {},
   "outputs": [
    {
     "data": {
      "text/plain": [
       "DatetimeIndex(['2019-01-09 10:00:00'], dtype='datetime64[ns]', freq=None)"
      ]
     },
     "execution_count": 21,
     "metadata": {},
     "output_type": "execute_result"
    }
   ],
   "source": [
    "# If you use dates which start with the day first (i.e. European style), you can pass the dayfirst flag\n",
    "\n",
    "pd.to_datetime(['09-01-2019 10:00'], dayfirst=True)"
   ]
  },
  {
   "cell_type": "code",
   "execution_count": 22,
   "metadata": {},
   "outputs": [
    {
     "data": {
      "text/plain": [
       "DatetimeIndex(['2017-01-02', '2018-03-01'], dtype='datetime64[ns]', freq=None)"
      ]
     },
     "execution_count": 22,
     "metadata": {},
     "output_type": "execute_result"
    }
   ],
   "source": [
    "pd.to_datetime(['02-01-2017', '01-03-2018'], dayfirst=True)"
   ]
  },
  {
   "cell_type": "code",
   "execution_count": 23,
   "metadata": {},
   "outputs": [
    {
     "data": {
      "text/plain": [
       "Timestamp('2019-10-01 00:00:00')"
      ]
     },
     "execution_count": 23,
     "metadata": {},
     "output_type": "execute_result"
    }
   ],
   "source": [
    "# you pass a single string to to_datetime, it returns a single Timestamp. Timestamp can also accept string input, \n",
    "# but it doesn’t accept string parsing options like dayfirst or format, so use to_datetime if these are required\n",
    "\n",
    "pd.to_datetime('2019/10/01')"
   ]
  },
  {
   "cell_type": "code",
   "execution_count": 24,
   "metadata": {},
   "outputs": [
    {
     "data": {
      "text/plain": [
       "DatetimeIndex(['2019-01-01', '2019-01-03', '2019-01-05'], dtype='datetime64[ns]', freq=None)"
      ]
     },
     "execution_count": 24,
     "metadata": {},
     "output_type": "execute_result"
    }
   ],
   "source": [
    "# You can also use the DatetimeIndex constructor directly\n",
    "\n",
    "pd.DatetimeIndex(['2019-01-01', '2019-01-03', '2019-01-05'])"
   ]
  },
  {
   "cell_type": "code",
   "execution_count": 25,
   "metadata": {},
   "outputs": [
    {
     "data": {
      "text/plain": [
       "DatetimeIndex(['2014-01-17', '2014-01-18', '2014-01-19'], dtype='datetime64[ns]', freq='D')"
      ]
     },
     "execution_count": 25,
     "metadata": {},
     "output_type": "execute_result"
    }
   ],
   "source": [
    "# The string ‘infer’ can be passed in order to set the frequency of the index as the inferred frequency upon creation\n",
    "\n",
    "pd.DatetimeIndex(['2014-01-17', '2014-01-18', '2014-01-19'], freq='infer')"
   ]
  },
  {
   "cell_type": "code",
   "execution_count": 26,
   "metadata": {},
   "outputs": [
    {
     "data": {
      "text/plain": [
       "Timestamp('2019-10-11 00:00:00')"
      ]
     },
     "execution_count": 26,
     "metadata": {},
     "output_type": "execute_result"
    }
   ],
   "source": [
    "# Providing a format argument\n",
    "\n",
    "pd.to_datetime('2019/10/11', format='%Y/%m/%d')"
   ]
  },
  {
   "cell_type": "code",
   "execution_count": 27,
   "metadata": {},
   "outputs": [
    {
     "data": {
      "text/plain": [
       "0   2017-03-15 08:00:00\n",
       "1   2018-04-16 09:00:00\n",
       "2   2019-05-17 10:00:00\n",
       "dtype: datetime64[ns]"
      ]
     },
     "execution_count": 27,
     "metadata": {},
     "output_type": "execute_result"
    }
   ],
   "source": [
    "# You can also pass a DataFrame of integer or string columns to assemble into a Series of Timestamps\n",
    "\n",
    "df = pd.DataFrame({'year': [2017, 2018, 2019],\n",
    "                       'month': [3, 4, 5],\n",
    "                       'day': [15, 16, 17],\n",
    "                       'hour': [8, 9, 10]})\n",
    "\n",
    "pd.to_datetime(df)\n",
    "# Notice the year, month, day, hour "
   ]
  },
  {
   "cell_type": "code",
   "execution_count": 28,
   "metadata": {},
   "outputs": [
    {
     "data": {
      "text/plain": [
       "0   2017-03-15\n",
       "1   2018-04-16\n",
       "2   2019-05-17\n",
       "dtype: datetime64[ns]"
      ]
     },
     "execution_count": 28,
     "metadata": {},
     "output_type": "execute_result"
    }
   ],
   "source": [
    "# You can pass only the columns that you need \n",
    "pd.to_datetime(df[['year', 'month', 'day']])"
   ]
  },
  {
   "cell_type": "code",
   "execution_count": 29,
   "metadata": {},
   "outputs": [
    {
     "data": {
      "text/plain": [
       "0     8\n",
       "1     9\n",
       "2    10\n",
       "Name: hour, dtype: int64"
      ]
     },
     "execution_count": 29,
     "metadata": {},
     "output_type": "execute_result"
    }
   ],
   "source": [
    "# Pull out hour data only\n",
    "\n",
    "df.hour"
   ]
  },
  {
   "cell_type": "code",
   "execution_count": 30,
   "metadata": {},
   "outputs": [
    {
     "data": {
      "text/plain": [
       "0    3\n",
       "1    4\n",
       "2    5\n",
       "Name: month, dtype: int64"
      ]
     },
     "execution_count": 30,
     "metadata": {},
     "output_type": "execute_result"
    }
   ],
   "source": [
    "# Pull out month data only\n",
    "\n",
    "df.month"
   ]
  }
 ],
 "metadata": {
  "kernelspec": {
   "display_name": "Python 3 (ipykernel)",
   "language": "python",
   "name": "python3"
  },
  "language_info": {
   "codemirror_mode": {
    "name": "ipython",
    "version": 3
   },
   "file_extension": ".py",
   "mimetype": "text/x-python",
   "name": "python",
   "nbconvert_exporter": "python",
   "pygments_lexer": "ipython3",
   "version": "3.9.7"
  }
 },
 "nbformat": 4,
 "nbformat_minor": 4
}
